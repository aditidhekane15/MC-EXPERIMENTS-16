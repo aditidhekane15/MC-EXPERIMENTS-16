{
  "nbformat": 4,
  "nbformat_minor": 0,
  "metadata": {
    "colab": {
      "provenance": []
    },
    "kernelspec": {
      "name": "python3",
      "display_name": "Python 3"
    },
    "language_info": {
      "name": "python"
    }
  },
  "cells": [
    {
      "cell_type": "code",
      "execution_count": 3,
      "metadata": {
        "colab": {
          "base_uri": "https://localhost:8080/"
        },
        "id": "lz7VHNIqTNXm",
        "outputId": "2c81eeda-98df-42a9-b6af-b98b73e86c14"
      },
      "outputs": [
        {
          "output_type": "stream",
          "name": "stdout",
          "text": [
            "Enter the data bits:\n",
            "Enter D1: 1\n",
            "Enter D2: -1\n",
            "Enter D3: 1\n",
            "Enter D4: -1\n",
            "Resultant Channel: [0 4 0 0]\n",
            "Enter the station to listen for (C1=1, C2=2, C3=3, C4=4): 2\n",
            "Decoded Data Bit: -1.0\n"
          ]
        }
      ],
      "source": [
        "import numpy as np\n",
        "\n",
        "# Walsh codes for CDMA\n",
        "codes = {\n",
        "    1: np.array([1, 1, 1, 1]),\n",
        "    2: np.array([1, -1, 1, -1]),\n",
        "    3: np.array([1, 1, -1, -1]),\n",
        "    4: np.array([1, -1, -1, 1])\n",
        "}\n",
        "\n",
        "# Get data bits from user\n",
        "data_bits = {}\n",
        "print(\"Enter the data bits:\")\n",
        "for i in range(1, 5):\n",
        "    data_bits[i] = int(input(f\"Enter D{i}: \"))\n",
        "\n",
        "# Encode and sum signals\n",
        "resultant_channel = sum(np.multiply(codes[i], data_bits[i]) for i in range(1, 5))\n",
        "print(\"Resultant Channel:\", resultant_channel)\n",
        "\n",
        "# Select a channel to decode\n",
        "channel = int(input(\"Enter the station to listen for (C1=1, C2=2, C3=3, C4=4): \"))\n",
        "if channel in codes:\n",
        "    inner_product = np.multiply(resultant_channel, codes[channel])\n",
        "    received_bit = sum(inner_product) / len(inner_product)\n",
        "    print(\"Decoded Data Bit:\", received_bit)\n",
        "else:\n",
        "    print(\"Invalid channel selection.\")"
      ]
    }
  ]
}